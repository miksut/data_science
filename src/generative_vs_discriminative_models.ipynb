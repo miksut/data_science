{
 "cells": [
  {
   "cell_type": "markdown",
   "id": "8d7f830d",
   "metadata": {},
   "source": [
    "# Generative and Discriminative Models"
   ]
  },
  {
   "cell_type": "markdown",
   "id": "9a115e05",
   "metadata": {},
   "source": [
    "The goal is the comparison of the Naïve Bayes Classifier (NBC) and Logistic Regression based on the paper mentioned below. Concretely, some of the experimental results are qualitatively reproduced. The comparison is performed on six datasets.\n",
    "\n",
    "**On Discriminative vs. Generative classifiers: A comparison of logistic regression\n",
    "and naive Bayes**  \n",
    "*Andrew Y. Ng and Michael I. Jordan*  \n",
    "Advances in Neural Information Processing Systems (NIPS) 2001."
   ]
  },
  {
   "cell_type": "markdown",
   "id": "ffdf6565",
   "metadata": {},
   "source": [
    "## Naïve Bayes Classifier (NBC)"
   ]
  },
  {
   "cell_type": "markdown",
   "id": "76ead59e",
   "metadata": {},
   "source": [
    "The implementation is based on the assumption that the data has three different features: the first being binary, the second being continous, and the third being categorical. Furthermore, four target classes are assumed. Similar to the classifiers provided in sklearn, the custom implementation of the NBC implements a **fit** and a **predict** function. \n",
    "\n",
    "Recalling the joint distribution of a generative model, $p(\\mathbf{x}, y \\mid \\theta, \\pi) = p(y | \\pi) \\cdot p(\\mathbf{x} \\mid y, \\theta)$, the fit function is expected to estimate all the parameters ($\\theta$ and $\\pi$) of the NBC. The predict function is expected to compute the probabilities that the new input belongs to all classes and then return the class that has the largest probability.\n",
    "\n",
    "    nbc.fit(X_train, y_train)\n",
    "    ypredicted = nbc.predict(X_test)\n",
    "    test_accuracy = np.mean(ypredicted == ytest)"
   ]
  },
  {
   "cell_type": "code",
   "execution_count": 3,
   "id": "0560986d",
   "metadata": {},
   "outputs": [],
   "source": [
    "%matplotlib inline\n",
    "import pylab\n",
    "pylab.rcParams['figure.figsize'] = (10., 10.)\n",
    "\n",
    "import pickle as cp\n",
    "import matplotlib.pyplot as plt\n",
    "import numpy as np\n",
    "from sklearn.datasets import load_iris\n",
    "import pandas as pd\n",
    "from scipy.stats import norm, multinomial, bernoulli\n",
    "from sklearn.preprocessing import OrdinalEncoder, LabelEncoder\n",
    "import requests\n",
    "from io import StringIO\n",
    "from sklearn.linear_model import LogisticRegression\n",
    "from sklearn.metrics import hamming_loss, mean_squared_error\n",
    "from statistics import mean \n",
    "from sklearn.model_selection import train_test_split\n",
    "#from sklearn.utils.testing import ignore_warnings\n",
    "from sklearn.exceptions import ConvergenceWarning\n",
    "from tqdm.notebook import tqdm\n",
    "from sklearn.impute import SimpleImputer\n",
    "from sklearn import preprocessing"
   ]
  },
  {
   "cell_type": "code",
   "execution_count": 4,
   "id": "d19c2a20",
   "metadata": {},
   "outputs": [],
   "source": [
    "# Distribution for continuous features\n",
    "class ContFeatureParam:\n",
    "    def __init__(self):\n",
    "        self.gauss = norm()\n",
    "        \n",
    "    def estimate(self, X):       \n",
    "        assert X.ndim == 1 or X.ndim == 0, \"Only one feature accepted\"\n",
    "        \n",
    "        # parameter estimation and distribution initialization\n",
    "        # TODO: implement MLE for parameters\n",
    "        mu = X.mean()\n",
    "        sigma  = X.var() if X.var() != 0 else 1e-6\n",
    "        self.gauss = norm(mu,sigma)\n",
    "        #print(\"Parameters estimated: Mu = {}, Sigma = {}\".format(mu, sigma))\n",
    "\n",
    "    def get_probability(self, val):      \n",
    "        return self.gauss.logpdf(val)\n",
    "\n",
    "\n",
    "# Distribution for binary features\n",
    "class BinFeatureParam:\n",
    "    def __init__(self):\n",
    "        self.bernoulli = bernoulli(p=0)\n",
    "    \n",
    "    def estimate(self, X):       \n",
    "        assert X.ndim == 1 or X.ndim == 0, \"Only one feature accepted\"\n",
    "        \n",
    "        # parameter estimation and distribution initialization\n",
    "        prob_succ = (np.count_nonzero(X == 1))/(X.size)\n",
    "        self.bernoulli = bernoulli(p=prob_succ)\n",
    "        #print(\"Parameters estimated: p = {}\".format(prob_succ))\n",
    "\n",
    "    def get_probability(self, val):\n",
    "        # return probability value in log space\n",
    "        return self.bernoulli.logpmf(val)\n",
    "\n",
    "    \n",
    "# Distribution for categorical features\n",
    "class CatFeatureParam:\n",
    "    def __init__(self):\n",
    "        self.multinoulli = multinomial(n=1, p=[0.5, 0.5])\n",
    "        self.enc = OrdinalEncoder()\n",
    "        \n",
    "    def estimate(self, X):\n",
    "        assert X.ndim == 1 or X.ndim == 0, \"Only one feature accepted\"\n",
    "        \n",
    "        # encode categorical data using scikit ordinal encoder\n",
    "        df = pd.DataFrame(data=(self.enc.fit_transform(X.reshape(-1,1))), columns=['encoding'])\n",
    "        df_sort = pd.DataFrame(df['encoding'].value_counts()).rename(columns={'encoding':'counts'}).sort_index()\n",
    "        \n",
    "        # parameter estimation and distribution initialization\n",
    "        params = (df_sort['counts'].to_numpy())/(df_sort['counts'].to_numpy().sum())\n",
    "        self.multinoulli = multinomial(n=1, p=params)\n",
    "        #print(\"Parameters estimated: p = {}\".format(params)) \n",
    "        \n",
    "    def get_probability(self, val):\n",
    "        method_param = np.zeros([len(val), len(self.enc.categories_[0])])\n",
    "        \n",
    "        # encoding input value\n",
    "        val_enc = self.enc.transform(np.array(val).reshape(-1,1))\n",
    "        method_param[np.arange(len(method_param)), np.squeeze(val_enc.astype(int))] = 1\n",
    "    \n",
    "        # return probability value in log space\n",
    "        return self.multinoulli.logpmf(method_param)"
   ]
  },
  {
   "cell_type": "markdown",
   "id": "76b71c90",
   "metadata": {},
   "source": [
    "### Implementation of NBC Class\n",
    "\n",
    "**Function fit**: Recall the joint distribution of a generative model: $p(\\mathbf{x}, y \\mid \\theta, \\pi) = p(y | \\pi) \\cdot p(\\mathbf{x} \\mid y, \\theta)$. \n",
    "The fit function will estimate the parameters for NBC based on the training data. The question is how to estimate the $\\theta$ in $p(\\mathbf{x} \\mid y, \\theta)$.\n",
    "\n",
    "For each class $c$, we want to estimate the $\\theta_c$ for the distribution $p(\\mathbf{x} \\mid y = c, \\theta_c)$. Since the assumption of NBC that the features are conditionally independent given the class $c$, the class conditional distribution is a product of $D$ distributions, one for each feature: $p(\\mathbf{x} \\mid y = c, \\theta_c) = \\prod_{j}^{D} p(x_j \\mid y = c, \\theta_{jc})$. Hence, we need to estimate the $\\theta_{jc}$ based on the data with class $c$ and feature $j$. "
   ]
  },
  {
   "cell_type": "markdown",
   "id": "388b4b37",
   "metadata": {},
   "source": [
    "**Function predict**: The predict function should compute the probabilities $p(y = c \\mid \\mathbf{x}_{new}, \\pi, \\theta)$ for the new inputs $\\mathbf{x}_{new}$ on all classes by applying the Bayes rule:\n",
    "\n",
    "$$p(y = c \\mid \\mathbf{x}_{new}, \\pi, \\theta) = \\frac{p(y = c \\mid \\pi_c) \\cdot p(\\mathbf{x}_{new} \\mid y=c, \\theta)}{\\sum^{C}_{c'=1}p(y=c' \\mid \\pi_{c'}) \\cdot p(\\mathbf{x}_{new} \\mid y=c', \\theta_{c'})},$$\n",
    "\n",
    "and then return the class that has the largest probability:\n",
    "\n",
    "$$y_{predict} = \\underset{c}{arg\\,\\max} \\, {p(y = c \\mid \\mathbf{x}_{new}, \\theta_c)}.$$\n",
    "\n",
    "What about the computation of $p(\\mathbf{x}_{new} \\mid y=c, \\theta_c)$? Due to the conditional independence assumption, we have $p(\\mathbf{x}_{new} \\mid y=c, \\theta_c) = \\prod_{j}^{D} p(x^j_{new} \\mid y = c, \\theta_{jc})$. Since we have got the parameters $\\theta_{jc}$ in the fit phase,  we can use them to compute the probabilities for the new data. "
   ]
  },
  {
   "cell_type": "code",
   "execution_count": 5,
   "id": "d05c8577",
   "metadata": {},
   "outputs": [],
   "source": [
    "class NBC:\n",
    "    def init_dist(self, feat_type):\n",
    "        if feat_type == 'b': \n",
    "            return BinFeatureParam()\n",
    "        elif feat_type == 'r':\n",
    "            return ContFeatureParam()\n",
    "        elif feat_type == 'c':\n",
    "            return CatFeatureParam()\n",
    "        else:\n",
    "            raise ValueError(\"Invalid feature type. Supported are 'b', 'r', and 'c'.\")\n",
    "    \n",
    "    # Inputs:\n",
    "    #   feature_types: the array of the types of the features, e.g., feature_types=['r', 'r', 'r', 'r']\n",
    "    #   num_classes: number of classes of labels\n",
    "    def __init__(self, feature_types=[], num_classes=0):\n",
    "        # initialize instance variables\n",
    "        self.feature_types = feature_types\n",
    "        self.num_classes = num_classes\n",
    "        self.label_enc = LabelEncoder()\n",
    "        self.class_data = {}\n",
    "        self.dist_features = {}\n",
    "        self.dist_labels = []\n",
    "        \n",
    "        for i in range(num_classes):\n",
    "            self.dist_features[str(i)] = {}\n",
    "            for j, el in enumerate(feature_types):\n",
    "                self.dist_features[str(i)][str(j)] = self.init_dist(str(el))\n",
    "                \n",
    "    # The function uses the input data to estimate all the parameters of the NBC\n",
    "    def fit(self, X, y):\n",
    "        # sanity checks: does data correspond to initialization values?\n",
    "        assert X.shape[1] == len(self.feature_types) and np.unique(y).size == self.num_classes, \"Data does not correspond to class initialization. Check number of features and label classes.\"\n",
    "        assert X.shape[0] == y.shape[0], \"Shape mismatch: number of datapoints in X differ from number of elements in label vector y.\"\n",
    "        \n",
    "        # label encoding\n",
    "        y_enc = self.label_enc.fit_transform(y)\n",
    "        \n",
    "        # prepare class specific datasets\n",
    "        for i in np.unique(y_enc):\n",
    "            self.class_data[str(i)] = X[np.where(y_enc == i)[0]]\n",
    "            \n",
    "        # fit feature distributions\n",
    "        for i in np.unique(y_enc):\n",
    "            for j, el in enumerate(self.feature_types):\n",
    "                self.dist_features[str(i)][str(j)].estimate(self.class_data[str(i)][:,j])\n",
    "        \n",
    "        # fit label distribution\n",
    "        df = pd.DataFrame(data=y_enc, columns=['labels_enc'])\n",
    "        df_sort = pd.DataFrame(df['labels_enc'].value_counts()).rename(columns={'labels_enc' : 'counts'}).sort_index()\n",
    "        self.dist_labels = df_sort['counts'].to_numpy()/(df_sort['counts'].to_numpy().sum())\n",
    "                \n",
    "    # The function takes the data X as input, and predicts the class for the data\n",
    "    def predict(self, X, return_y_original=False):\n",
    "        # sanity check: number of input features = number of initialized distributions?\n",
    "        assert X.shape[0] == len(self.feature_types) or X.shape[1] == len(self.feature_types), \"Shape mismatch: number of input features != number of initialized distributions\"\n",
    "        \n",
    "        # option to return predicted labels in inverted form \n",
    "        label_original = return_y_original\n",
    "        \n",
    "        # initialize numerators of Bayes rule and ŷ\n",
    "        # since computations are done in log space, it holds that:\n",
    "        # log(P(class_i | data)) ∝ log(P(class_i)) + Σ_j (log(P(x_j | class_i)))\n",
    "        if X.ndim == 1:\n",
    "            X = np.reshape(X, (1,-1))\n",
    "            numerators = np.ones([1, self.num_classes])\n",
    "            y_predict = np.zeros(1)\n",
    "        elif X.ndim == 2:\n",
    "            numerators = np.ones([X.shape[0], self.num_classes])\n",
    "            y_predict = np.zeros(X.shape[0])\n",
    "        else:\n",
    "            raise ValueError(\"Invalid dimension of input data\")\n",
    "        \n",
    "        # compute posteriors\n",
    "        for i in range(self.num_classes):\n",
    "            numerators[:,i] += np.log(self.dist_labels[i])\n",
    "            for j, el in enumerate(self.feature_types):\n",
    "                numerators[:,i] += self.dist_features[str(i)][str(j)].get_probability(X[:,j])\n",
    "\n",
    "        # filter most likely class\n",
    "        y_predict = np.argmax(numerators, axis=1)\n",
    "        \n",
    "        # return predicted labels\n",
    "        return y_predict if not return_y_original else self.label_enc.inverse_transform(y_predict)"
   ]
  },
  {
   "cell_type": "code",
   "execution_count": 9,
   "id": "2ca6b48d",
   "metadata": {},
   "outputs": [
    {
     "name": "stdout",
     "output_type": "stream",
     "text": [
      "Accuracy: 0.9666666666666667\n"
     ]
    }
   ],
   "source": [
    "iris = load_iris()\n",
    "X, y = iris['data'], iris['target']\n",
    "\n",
    "N, D = X.shape\n",
    "Ntrain = int(0.8 * N)\n",
    "shuffler = np.random.permutation(N)\n",
    "Xtrain = X[shuffler[:Ntrain]]\n",
    "ytrain = y[shuffler[:Ntrain]]\n",
    "Xtest = X[shuffler[Ntrain:]]\n",
    "ytest = y[shuffler[Ntrain:]]\n",
    "\n",
    "\n",
    "nbc_iris = NBC(feature_types=['r', 'r', 'r', 'r'], num_classes=3)\n",
    "nbc_iris.fit(Xtrain, ytrain)\n",
    "yhat = nbc_iris.predict(Xtest)\n",
    "test_accuracy = np.mean(yhat == ytest)\n",
    "print(\"Accuracy:\", test_accuracy)"
   ]
  },
  {
   "cell_type": "markdown",
   "id": "fc750405",
   "metadata": {},
   "source": [
    "## Comparing NBC and Logistic Regression (LR)"
   ]
  },
  {
   "cell_type": "markdown",
   "id": "36368201",
   "metadata": {},
   "source": [
    "The idea is to compare the classification error of the NBC and LR trained on increasingly\n",
    "larger training datasets. Because the datasets are so small, we do this multiple times and\n",
    "average the classification error. One run looks as follows:\n",
    "- Shuffle the data, put 20% aside for testing.\n",
    "- Train the classifiers with increasingly more data (e.g., 10%, 20%, ..., 100% of training data) and store the classification errors on the test set\n",
    "\n",
    "We repeat this with at least 200 random permutations to average out the test error across the runs. In the end, we get average test errors as a function of the size of the training data."
   ]
  },
  {
   "cell_type": "markdown",
   "id": "d11c48fc",
   "metadata": {},
   "source": [
    "**Parameters of the comparison**"
   ]
  },
  {
   "cell_type": "code",
   "execution_count": 18,
   "id": "d1b1fe8a",
   "metadata": {},
   "outputs": [],
   "source": [
    "TRAIN_SET_RATIO = 0.8\n",
    "NUM_RUNS = 500\n",
    "NUM_SPLITS = 10\n",
    "LR_MAX_ITER = 1000"
   ]
  },
  {
   "cell_type": "code",
   "execution_count": 19,
   "id": "50622547",
   "metadata": {},
   "outputs": [],
   "source": [
    "def shuffle_split_data(X, y, ratio):\n",
    "    X_train, X_test, y_train, y_test = train_test_split(\n",
    "        X,\n",
    "        y,\n",
    "        train_size=ratio * TRAIN_SET_RATIO,\n",
    "        test_size=ratio * (1 - TRAIN_SET_RATIO),\n",
    "        stratify=y,\n",
    "        shuffle=True\n",
    "    )\n",
    "    \n",
    "    return X_train.to_numpy(), X_test.to_numpy(), y_train.to_numpy(), y_test.to_numpy()"
   ]
  },
  {
   "cell_type": "code",
   "execution_count": 20,
   "id": "c4bfe5e0",
   "metadata": {},
   "outputs": [],
   "source": [
    "# inputs:\n",
    "#   nbc: Naive Bayes Classifier\n",
    "#   lr: Logistic Regression Classifier\n",
    "#   X, y: data\n",
    "#   num_runs: we need repeat num_runs times and store average results\n",
    "#   num_splits: we want to compare the two models on increasingly larger training sets.\n",
    "#               num_splits defines the number of increasing steps. \n",
    "# outputs:\n",
    "#   the arrays of the test errors across the runs of the two classifiers \n",
    "def compareNBCvsLR(nbc, lr, X, y, num_runs=NUM_RUNS, num_splits=NUM_SPLITS):\n",
    "    nbc_test_errors = []\n",
    "    lr_test_erorrs = []\n",
    "    \n",
    "    for ratio in np.arange(0.1, 1.1, 1/num_splits):\n",
    "        print('Training with {}% of data'.format(int(ratio * 100)))\n",
    "        nbc_test_error_measurements = []\n",
    "        lr_test_error_measurements = []\n",
    "        \n",
    "        # Repeat measurement for a particular ratio and take average error\n",
    "        for i in tqdm(range(num_runs)):\n",
    "            X_train, X_test, y_train, y_test = shuffle_split_data(X, y, ratio)\n",
    "                    \n",
    "            nbc.fit(X_train, y_train)\n",
    "            lr.fit(X_train, y_train)\n",
    "            \n",
    "            nbc_error = hamming_loss(y_test, nbc.predict(X_test))\n",
    "            lr_error = hamming_loss(y_test, lr.predict(X_test))\n",
    "            \n",
    "            nbc_test_error_measurements.append(nbc_error)\n",
    "            lr_test_error_measurements.append(lr_error)\n",
    "        \n",
    "        nbc_test_errors.append(mean(nbc_test_error_measurements))\n",
    "        lr_test_erorrs.append(mean(lr_test_error_measurements))\n",
    "        \n",
    "    return nbc_test_errors, lr_test_erorrs"
   ]
  },
  {
   "cell_type": "code",
   "execution_count": 21,
   "id": "c9c8645d",
   "metadata": {},
   "outputs": [],
   "source": [
    "def makePlot(nbc_perf, lr_perf, title=None):\n",
    "    fig = plt.figure()\n",
    "    ax = fig.add_subplot(1, 1, 1)\n",
    "\n",
    "    ax.tick_params(axis='both', labelsize=20)\n",
    "\n",
    "    ax.set_xlabel('Percent of training data used', fontsize=20)\n",
    "    ax.set_ylabel('Classification Error', fontsize=20)\n",
    "    if title is not None: ax.set_title(title, fontsize=25)\n",
    "\n",
    "    xaxis_scale = [(i + 1) * 10 for i in range(10)]\n",
    "    plt.plot(xaxis_scale, nbc_perf, label='Naive Bayes')\n",
    "    plt.plot(xaxis_scale, lr_perf, label='Logistic Regression', linestyle='dashed')\n",
    "    \n",
    "    ax.legend(loc='upper right', fontsize=20)"
   ]
  },
  {
   "cell_type": "code",
   "execution_count": 22,
   "id": "c578841e",
   "metadata": {},
   "outputs": [],
   "source": [
    "def read_df_by_url(url):\n",
    "    response = requests.get(url)\n",
    "    data = response.content.decode('utf8')\n",
    "    \n",
    "    return pd.read_csv(StringIO(data), header=None)"
   ]
  },
  {
   "cell_type": "markdown",
   "id": "6fbcfe3e",
   "metadata": {},
   "source": [
    "### Datasets\n",
    "\n",
    "Idea: for each dataset...\n",
    "1. prepare the data for the two classifiers\n",
    "2. compare the two classifiers on the dataset and generate the plots"
   ]
  },
  {
   "cell_type": "markdown",
   "id": "2703e6da",
   "metadata": {},
   "source": [
    "**Dataset 1: Iris Dataset**\n",
    "\n",
    "https://scikit-learn.org/stable/auto_examples/datasets/plot_iris_dataset.html"
   ]
  },
  {
   "cell_type": "code",
   "execution_count": 23,
   "id": "aa8a89cc",
   "metadata": {},
   "outputs": [
    {
     "name": "stdout",
     "output_type": "stream",
     "text": [
      "Training with 10% of data\n"
     ]
    },
    {
     "data": {
      "application/vnd.jupyter.widget-view+json": {
       "model_id": "5757550a441f4baba6cd289c6994426f",
       "version_major": 2,
       "version_minor": 0
      },
      "text/plain": [
       "  0%|          | 0/500 [00:00<?, ?it/s]"
      ]
     },
     "metadata": {},
     "output_type": "display_data"
    },
    {
     "name": "stdout",
     "output_type": "stream",
     "text": [
      "Training with 20% of data\n"
     ]
    },
    {
     "data": {
      "application/vnd.jupyter.widget-view+json": {
       "model_id": "48bdad914a704210a5a825b3db604c03",
       "version_major": 2,
       "version_minor": 0
      },
      "text/plain": [
       "  0%|          | 0/500 [00:00<?, ?it/s]"
      ]
     },
     "metadata": {},
     "output_type": "display_data"
    },
    {
     "name": "stdout",
     "output_type": "stream",
     "text": [
      "Training with 30% of data\n"
     ]
    },
    {
     "data": {
      "application/vnd.jupyter.widget-view+json": {
       "model_id": "ba9c9d747b0e46e5819dc3cc43cfaaeb",
       "version_major": 2,
       "version_minor": 0
      },
      "text/plain": [
       "  0%|          | 0/500 [00:00<?, ?it/s]"
      ]
     },
     "metadata": {},
     "output_type": "display_data"
    },
    {
     "name": "stdout",
     "output_type": "stream",
     "text": [
      "Training with 40% of data\n"
     ]
    },
    {
     "data": {
      "application/vnd.jupyter.widget-view+json": {
       "model_id": "b7530c7e2ccb4d4bb11bfa86c2373057",
       "version_major": 2,
       "version_minor": 0
      },
      "text/plain": [
       "  0%|          | 0/500 [00:00<?, ?it/s]"
      ]
     },
     "metadata": {},
     "output_type": "display_data"
    },
    {
     "name": "stdout",
     "output_type": "stream",
     "text": [
      "Training with 50% of data\n"
     ]
    },
    {
     "data": {
      "application/vnd.jupyter.widget-view+json": {
       "model_id": "d3d094de36394c5ca506cd1605dcb31c",
       "version_major": 2,
       "version_minor": 0
      },
      "text/plain": [
       "  0%|          | 0/500 [00:00<?, ?it/s]"
      ]
     },
     "metadata": {},
     "output_type": "display_data"
    },
    {
     "name": "stdout",
     "output_type": "stream",
     "text": [
      "Training with 60% of data\n"
     ]
    },
    {
     "data": {
      "application/vnd.jupyter.widget-view+json": {
       "model_id": "a0b59c85c53a4f0eb2f152bcea409519",
       "version_major": 2,
       "version_minor": 0
      },
      "text/plain": [
       "  0%|          | 0/500 [00:00<?, ?it/s]"
      ]
     },
     "metadata": {},
     "output_type": "display_data"
    },
    {
     "name": "stdout",
     "output_type": "stream",
     "text": [
      "Training with 70% of data\n"
     ]
    },
    {
     "data": {
      "application/vnd.jupyter.widget-view+json": {
       "model_id": "e608e6a97c4d413da361a8b695c5ee1b",
       "version_major": 2,
       "version_minor": 0
      },
      "text/plain": [
       "  0%|          | 0/500 [00:00<?, ?it/s]"
      ]
     },
     "metadata": {},
     "output_type": "display_data"
    },
    {
     "name": "stdout",
     "output_type": "stream",
     "text": [
      "Training with 80% of data\n"
     ]
    },
    {
     "data": {
      "application/vnd.jupyter.widget-view+json": {
       "model_id": "cd997dfd3faf4403a43a2001440ad8f0",
       "version_major": 2,
       "version_minor": 0
      },
      "text/plain": [
       "  0%|          | 0/500 [00:00<?, ?it/s]"
      ]
     },
     "metadata": {},
     "output_type": "display_data"
    },
    {
     "name": "stdout",
     "output_type": "stream",
     "text": [
      "Training with 90% of data\n"
     ]
    },
    {
     "data": {
      "application/vnd.jupyter.widget-view+json": {
       "model_id": "66211f10332840feab6063d0e4bd186b",
       "version_major": 2,
       "version_minor": 0
      },
      "text/plain": [
       "  0%|          | 0/500 [00:00<?, ?it/s]"
      ]
     },
     "metadata": {},
     "output_type": "display_data"
    },
    {
     "name": "stdout",
     "output_type": "stream",
     "text": [
      "Training with 100% of data\n"
     ]
    },
    {
     "data": {
      "application/vnd.jupyter.widget-view+json": {
       "model_id": "ccdabe24d50e44ccbe1b7715f0ba3452",
       "version_major": 2,
       "version_minor": 0
      },
      "text/plain": [
       "  0%|          | 0/500 [00:00<?, ?it/s]"
      ]
     },
     "metadata": {},
     "output_type": "display_data"
    },
    {
     "data": {
      "image/png": "[encoded data removed]",
      "text/plain": [
       "<Figure size 720x720 with 1 Axes>"
      ]
     },
     "metadata": {
      "needs_background": "light"
     },
     "output_type": "display_data"
    }
   ],
   "source": [
    "iris_obj = load_iris()\n",
    "df = pd.DataFrame(iris_obj.data, columns=iris_obj.feature_names,index=pd.Index([i for i in range(iris_obj.data.shape[0])])).join(pd.DataFrame(iris_obj.target, columns=pd.Index([\"species\"]), index=pd.Index([i for i in range(iris_obj.target.shape[0])])))\n",
    "X = df.drop(['species'], axis=1)\n",
    "y = df['species']\n",
    "\n",
    "nbc = NBC(feature_types=['r', 'r', 'r', 'r'], num_classes=3)\n",
    "lr = LogisticRegression(max_iter=LR_MAX_ITER)\n",
    "\n",
    "makePlot(*compareNBCvsLR(nbc, lr, X, y), title='Iris Dataset')"
   ]
  },
  {
   "cell_type": "markdown",
   "id": "9521b664",
   "metadata": {},
   "source": [
    "**Dataset 2: Voting Dataset**\n",
    "\n",
    "https://archive.ics.uci.edu/ml/datasets/congressional+voting+records"
   ]
  },
  {
   "cell_type": "code",
   "execution_count": 24,
   "id": "66861dd0",
   "metadata": {},
   "outputs": [
    {
     "name": "stdout",
     "output_type": "stream",
     "text": [
      "Training with 10% of data\n"
     ]
    },
    {
     "data": {
      "application/vnd.jupyter.widget-view+json": {
       "model_id": "0bcf847de9ac4d2097cba13966383b52",
       "version_major": 2,
       "version_minor": 0
      },
      "text/plain": [
       "  0%|          | 0/500 [00:00<?, ?it/s]"
      ]
     },
     "metadata": {},
     "output_type": "display_data"
    },
    {
     "name": "stdout",
     "output_type": "stream",
     "text": [
      "Training with 20% of data\n"
     ]
    },
    {
     "data": {
      "application/vnd.jupyter.widget-view+json": {
       "model_id": "d8dbe0cf8dc14483b50fdf05d855a9f8",
       "version_major": 2,
       "version_minor": 0
      },
      "text/plain": [
       "  0%|          | 0/500 [00:00<?, ?it/s]"
      ]
     },
     "metadata": {},
     "output_type": "display_data"
    },
    {
     "name": "stdout",
     "output_type": "stream",
     "text": [
      "Training with 30% of data\n"
     ]
    },
    {
     "data": {
      "application/vnd.jupyter.widget-view+json": {
       "model_id": "6ae24fd318c14f54b033ba375b6c3370",
       "version_major": 2,
       "version_minor": 0
      },
      "text/plain": [
       "  0%|          | 0/500 [00:00<?, ?it/s]"
      ]
     },
     "metadata": {},
     "output_type": "display_data"
    },
    {
     "name": "stdout",
     "output_type": "stream",
     "text": [
      "Training with 40% of data\n"
     ]
    },
    {
     "data": {
      "application/vnd.jupyter.widget-view+json": {
       "model_id": "e1fbe611896143f092bbcb6ef8da0259",
       "version_major": 2,
       "version_minor": 0
      },
      "text/plain": [
       "  0%|          | 0/500 [00:00<?, ?it/s]"
      ]
     },
     "metadata": {},
     "output_type": "display_data"
    },
    {
     "name": "stdout",
     "output_type": "stream",
     "text": [
      "Training with 50% of data\n"
     ]
    },
    {
     "data": {
      "application/vnd.jupyter.widget-view+json": {
       "model_id": "e9134652879e490fa2f3992a7c2f2d27",
       "version_major": 2,
       "version_minor": 0
      },
      "text/plain": [
       "  0%|          | 0/500 [00:00<?, ?it/s]"
      ]
     },
     "metadata": {},
     "output_type": "display_data"
    },
    {
     "name": "stdout",
     "output_type": "stream",
     "text": [
      "Training with 60% of data\n"
     ]
    },
    {
     "data": {
      "application/vnd.jupyter.widget-view+json": {
       "model_id": "026bf01e712b45c49e66811523529851",
       "version_major": 2,
       "version_minor": 0
      },
      "text/plain": [
       "  0%|          | 0/500 [00:00<?, ?it/s]"
      ]
     },
     "metadata": {},
     "output_type": "display_data"
    },
    {
     "name": "stdout",
     "output_type": "stream",
     "text": [
      "Training with 70% of data\n"
     ]
    },
    {
     "data": {
      "application/vnd.jupyter.widget-view+json": {
       "model_id": "82a3056653ce472aa334fbbc94006e7e",
       "version_major": 2,
       "version_minor": 0
      },
      "text/plain": [
       "  0%|          | 0/500 [00:00<?, ?it/s]"
      ]
     },
     "metadata": {},
     "output_type": "display_data"
    },
    {
     "name": "stdout",
     "output_type": "stream",
     "text": [
      "Training with 80% of data\n"
     ]
    },
    {
     "data": {
      "application/vnd.jupyter.widget-view+json": {
       "model_id": "3c0ce38747d34a7aa65b3d9768982235",
       "version_major": 2,
       "version_minor": 0
      },
      "text/plain": [
       "  0%|          | 0/500 [00:00<?, ?it/s]"
      ]
     },
     "metadata": {},
     "output_type": "display_data"
    },
    {
     "name": "stdout",
     "output_type": "stream",
     "text": [
      "Training with 90% of data\n"
     ]
    },
    {
     "data": {
      "application/vnd.jupyter.widget-view+json": {
       "model_id": "a3bee37c6969421d9819fea165e6a65b",
       "version_major": 2,
       "version_minor": 0
      },
      "text/plain": [
       "  0%|          | 0/500 [00:00<?, ?it/s]"
      ]
     },
     "metadata": {},
     "output_type": "display_data"
    },
    {
     "name": "stdout",
     "output_type": "stream",
     "text": [
      "Training with 100% of data\n"
     ]
    },
    {
     "data": {
      "application/vnd.jupyter.widget-view+json": {
       "model_id": "560c6a45ca974877be9949ac2a5e36f1",
       "version_major": 2,
       "version_minor": 0
      },
      "text/plain": [
       "  0%|          | 0/500 [00:00<?, ?it/s]"
      ]
     },
     "metadata": {},
     "output_type": "display_data"
    },
    {
     "data": {
      "image/png": "[encoded data removed]",
      "text/plain": [
       "<Figure size 720x720 with 1 Axes>"
      ]
     },
     "metadata": {
      "needs_background": "light"
     },
     "output_type": "display_data"
    }
   ],
   "source": [
    "url = 'https://archive.ics.uci.edu/ml/machine-learning-databases/voting-records/house-votes-84.data'\n",
    "df = read_df_by_url(url)\n",
    "X = df.drop([0], axis=1)\n",
    "y = df[0]\n",
    "imputer = SimpleImputer(missing_values='?', strategy='most_frequent')\n",
    "X[:] = imputer.fit_transform(X)\n",
    "X = pd.get_dummies(X)\n",
    "y = pd.Series(LabelEncoder().fit_transform(y))\n",
    "num_features = X.shape[1]\n",
    "num_classes = len(np.unique(y))\n",
    "\n",
    "nbc = NBC(feature_types=['b'] * num_features, num_classes=num_classes)\n",
    "lr = LogisticRegression(max_iter=LR_MAX_ITER)\n",
    "\n",
    "makePlot(*compareNBCvsLR(nbc, lr, X, y), title='Voting Dataset')"
   ]
  },
  {
   "cell_type": "markdown",
   "id": "302c498b",
   "metadata": {},
   "source": [
    "**Dataset 3: Car Evaluation Dataset**\n",
    "\n",
    "https://archive.ics.uci.edu/ml/datasets/car+evaluation"
   ]
  },
  {
   "cell_type": "code",
   "execution_count": 25,
   "id": "0d8a6fb4",
   "metadata": {},
   "outputs": [
    {
     "name": "stdout",
     "output_type": "stream",
     "text": [
      "Training with 10% of data\n"
     ]
    },
    {
     "data": {
      "application/vnd.jupyter.widget-view+json": {
       "model_id": "a23bc597de4b4343976d94adcbc124dd",
       "version_major": 2,
       "version_minor": 0
      },
      "text/plain": [
       "  0%|          | 0/500 [00:00<?, ?it/s]"
      ]
     },
     "metadata": {},
     "output_type": "display_data"
    },
    {
     "name": "stdout",
     "output_type": "stream",
     "text": [
      "Training with 20% of data\n"
     ]
    },
    {
     "data": {
      "application/vnd.jupyter.widget-view+json": {
       "model_id": "d400faebd2ff4bf184af2a5025cb4e11",
       "version_major": 2,
       "version_minor": 0
      },
      "text/plain": [
       "  0%|          | 0/500 [00:00<?, ?it/s]"
      ]
     },
     "metadata": {},
     "output_type": "display_data"
    },
    {
     "name": "stdout",
     "output_type": "stream",
     "text": [
      "Training with 30% of data\n"
     ]
    },
    {
     "data": {
      "application/vnd.jupyter.widget-view+json": {
       "model_id": "eb49d3219307441880b44889d1f77199",
       "version_major": 2,
       "version_minor": 0
      },
      "text/plain": [
       "  0%|          | 0/500 [00:00<?, ?it/s]"
      ]
     },
     "metadata": {},
     "output_type": "display_data"
    },
    {
     "name": "stdout",
     "output_type": "stream",
     "text": [
      "Training with 40% of data\n"
     ]
    },
    {
     "data": {
      "application/vnd.jupyter.widget-view+json": {
       "model_id": "d118342d7edc4dafa4f66345529382c9",
       "version_major": 2,
       "version_minor": 0
      },
      "text/plain": [
       "  0%|          | 0/500 [00:00<?, ?it/s]"
      ]
     },
     "metadata": {},
     "output_type": "display_data"
    },
    {
     "name": "stdout",
     "output_type": "stream",
     "text": [
      "Training with 50% of data\n"
     ]
    },
    {
     "data": {
      "application/vnd.jupyter.widget-view+json": {
       "model_id": "7e1a55e39e9742cc95684605f7ded35a",
       "version_major": 2,
       "version_minor": 0
      },
      "text/plain": [
       "  0%|          | 0/500 [00:00<?, ?it/s]"
      ]
     },
     "metadata": {},
     "output_type": "display_data"
    },
    {
     "name": "stdout",
     "output_type": "stream",
     "text": [
      "Training with 60% of data\n"
     ]
    },
    {
     "data": {
      "application/vnd.jupyter.widget-view+json": {
       "model_id": "803413086d4d46cbb8d777c70f4412e2",
       "version_major": 2,
       "version_minor": 0
      },
      "text/plain": [
       "  0%|          | 0/500 [00:00<?, ?it/s]"
      ]
     },
     "metadata": {},
     "output_type": "display_data"
    },
    {
     "name": "stdout",
     "output_type": "stream",
     "text": [
      "Training with 70% of data\n"
     ]
    },
    {
     "data": {
      "application/vnd.jupyter.widget-view+json": {
       "model_id": "b0b7d58c089642e984dcc7f8a3ed5a5a",
       "version_major": 2,
       "version_minor": 0
      },
      "text/plain": [
       "  0%|          | 0/500 [00:00<?, ?it/s]"
      ]
     },
     "metadata": {},
     "output_type": "display_data"
    },
    {
     "name": "stdout",
     "output_type": "stream",
     "text": [
      "Training with 80% of data\n"
     ]
    },
    {
     "data": {
      "application/vnd.jupyter.widget-view+json": {
       "model_id": "d40b2c59963d43f195ac84694be9ce88",
       "version_major": 2,
       "version_minor": 0
      },
      "text/plain": [
       "  0%|          | 0/500 [00:00<?, ?it/s]"
      ]
     },
     "metadata": {},
     "output_type": "display_data"
    },
    {
     "name": "stdout",
     "output_type": "stream",
     "text": [
      "Training with 90% of data\n"
     ]
    },
    {
     "data": {
      "application/vnd.jupyter.widget-view+json": {
       "model_id": "0f771c4b492c4d02b5b028476e263d1f",
       "version_major": 2,
       "version_minor": 0
      },
      "text/plain": [
       "  0%|          | 0/500 [00:00<?, ?it/s]"
      ]
     },
     "metadata": {},
     "output_type": "display_data"
    },
    {
     "name": "stdout",
     "output_type": "stream",
     "text": [
      "Training with 100% of data\n"
     ]
    },
    {
     "data": {
      "application/vnd.jupyter.widget-view+json": {
       "model_id": "de67fc1c2f6a406eac6b6fd4296d4671",
       "version_major": 2,
       "version_minor": 0
      },
      "text/plain": [
       "  0%|          | 0/500 [00:00<?, ?it/s]"
      ]
     },
     "metadata": {},
     "output_type": "display_data"
    },
    {
     "data": {
      "image/png": "[encoded data removed]",
      "text/plain": [
       "<Figure size 720x720 with 1 Axes>"
      ]
     },
     "metadata": {
      "needs_background": "light"
     },
     "output_type": "display_data"
    }
   ],
   "source": [
    "url = 'https://archive.ics.uci.edu/ml/machine-learning-databases/car/car.data'\n",
    "df = read_df_by_url(url)\n",
    "X = df.drop(df.columns[-1], axis=1)\n",
    "X = pd.get_dummies(X)\n",
    "y = df[df.columns[-1]]\n",
    "y = pd.Series(LabelEncoder().fit_transform(y))\n",
    "num_features = X.shape[1]\n",
    "num_classes = len(np.unique(y))\n",
    "\n",
    "nbc = NBC(feature_types=['b'] * num_features, num_classes=num_classes)\n",
    "lr = LogisticRegression(max_iter=LR_MAX_ITER)\n",
    "\n",
    "makePlot(*compareNBCvsLR(nbc, lr, X, y), title='Car Dataset')"
   ]
  },
  {
   "cell_type": "markdown",
   "id": "92497aa4",
   "metadata": {},
   "source": [
    "**Dataset 4: Breast Cancer Dataset**\n",
    "\n",
    "https://archive.ics.uci.edu/ml/datasets/breast+cancer"
   ]
  },
  {
   "cell_type": "code",
   "execution_count": 26,
   "id": "51947250",
   "metadata": {},
   "outputs": [
    {
     "name": "stdout",
     "output_type": "stream",
     "text": [
      "Training with 10% of data\n"
     ]
    },
    {
     "data": {
      "application/vnd.jupyter.widget-view+json": {
       "model_id": "d03ccd9369fa47598457e93eb468720a",
       "version_major": 2,
       "version_minor": 0
      },
      "text/plain": [
       "  0%|          | 0/500 [00:00<?, ?it/s]"
      ]
     },
     "metadata": {},
     "output_type": "display_data"
    },
    {
     "name": "stdout",
     "output_type": "stream",
     "text": [
      "Training with 20% of data\n"
     ]
    },
    {
     "data": {
      "application/vnd.jupyter.widget-view+json": {
       "model_id": "63c1055ff0404a5193f632083912714c",
       "version_major": 2,
       "version_minor": 0
      },
      "text/plain": [
       "  0%|          | 0/500 [00:00<?, ?it/s]"
      ]
     },
     "metadata": {},
     "output_type": "display_data"
    },
    {
     "name": "stdout",
     "output_type": "stream",
     "text": [
      "Training with 30% of data\n"
     ]
    },
    {
     "data": {
      "application/vnd.jupyter.widget-view+json": {
       "model_id": "952e65c305a141c5a7c7d29d94e2e4d0",
       "version_major": 2,
       "version_minor": 0
      },
      "text/plain": [
       "  0%|          | 0/500 [00:00<?, ?it/s]"
      ]
     },
     "metadata": {},
     "output_type": "display_data"
    },
    {
     "name": "stdout",
     "output_type": "stream",
     "text": [
      "Training with 40% of data\n"
     ]
    },
    {
     "data": {
      "application/vnd.jupyter.widget-view+json": {
       "model_id": "3d5fb176a1d246d39332bd50adbdcf02",
       "version_major": 2,
       "version_minor": 0
      },
      "text/plain": [
       "  0%|          | 0/500 [00:00<?, ?it/s]"
      ]
     },
     "metadata": {},
     "output_type": "display_data"
    },
    {
     "name": "stdout",
     "output_type": "stream",
     "text": [
      "Training with 50% of data\n"
     ]
    },
    {
     "data": {
      "application/vnd.jupyter.widget-view+json": {
       "model_id": "bf4b2a3aec4e41c1aedb1cd27f361676",
       "version_major": 2,
       "version_minor": 0
      },
      "text/plain": [
       "  0%|          | 0/500 [00:00<?, ?it/s]"
      ]
     },
     "metadata": {},
     "output_type": "display_data"
    },
    {
     "name": "stdout",
     "output_type": "stream",
     "text": [
      "Training with 60% of data\n"
     ]
    },
    {
     "data": {
      "application/vnd.jupyter.widget-view+json": {
       "model_id": "0f201351a9f6482cbaec7bff6d4869ce",
       "version_major": 2,
       "version_minor": 0
      },
      "text/plain": [
       "  0%|          | 0/500 [00:00<?, ?it/s]"
      ]
     },
     "metadata": {},
     "output_type": "display_data"
    },
    {
     "name": "stdout",
     "output_type": "stream",
     "text": [
      "Training with 70% of data\n"
     ]
    },
    {
     "data": {
      "application/vnd.jupyter.widget-view+json": {
       "model_id": "70adb23cb16f4a79aa165000200f53e2",
       "version_major": 2,
       "version_minor": 0
      },
      "text/plain": [
       "  0%|          | 0/500 [00:00<?, ?it/s]"
      ]
     },
     "metadata": {},
     "output_type": "display_data"
    },
    {
     "name": "stdout",
     "output_type": "stream",
     "text": [
      "Training with 80% of data\n"
     ]
    },
    {
     "data": {
      "application/vnd.jupyter.widget-view+json": {
       "model_id": "6168e0f411084760916a1846edc8bcd8",
       "version_major": 2,
       "version_minor": 0
      },
      "text/plain": [
       "  0%|          | 0/500 [00:00<?, ?it/s]"
      ]
     },
     "metadata": {},
     "output_type": "display_data"
    },
    {
     "name": "stdout",
     "output_type": "stream",
     "text": [
      "Training with 90% of data\n"
     ]
    },
    {
     "data": {
      "application/vnd.jupyter.widget-view+json": {
       "model_id": "a989f802738a469eb55146d044b88d24",
       "version_major": 2,
       "version_minor": 0
      },
      "text/plain": [
       "  0%|          | 0/500 [00:00<?, ?it/s]"
      ]
     },
     "metadata": {},
     "output_type": "display_data"
    },
    {
     "name": "stdout",
     "output_type": "stream",
     "text": [
      "Training with 100% of data\n"
     ]
    },
    {
     "data": {
      "application/vnd.jupyter.widget-view+json": {
       "model_id": "00464d2d010b4ed690a8b3eab74c1375",
       "version_major": 2,
       "version_minor": 0
      },
      "text/plain": [
       "  0%|          | 0/500 [00:00<?, ?it/s]"
      ]
     },
     "metadata": {},
     "output_type": "display_data"
    },
    {
     "data": {
      "image/png": "[encoded data removed]",
      "text/plain": [
       "<Figure size 720x720 with 1 Axes>"
      ]
     },
     "metadata": {
      "needs_background": "light"
     },
     "output_type": "display_data"
    }
   ],
   "source": [
    "url = 'https://archive.ics.uci.edu/ml/machine-learning-databases/breast-cancer/breast-cancer.data'\n",
    "df = read_df_by_url(url)\n",
    "X = df.drop([0], axis=1)\n",
    "X = pd.get_dummies(X)\n",
    "y = df[df.columns[0]]\n",
    "y = pd.Series(LabelEncoder().fit_transform(y))\n",
    "num_features = X.shape[1]\n",
    "num_classes = len(np.unique(y))\n",
    "\n",
    "nbc = NBC(feature_types=['b'] * num_features, num_classes=num_classes)\n",
    "lr = LogisticRegression(max_iter=LR_MAX_ITER)\n",
    "\n",
    "makePlot(*compareNBCvsLR(nbc, lr, X, y), title='Breast Cancer Dataset')"
   ]
  },
  {
   "cell_type": "markdown",
   "id": "dd68ea16",
   "metadata": {},
   "source": [
    "**Dataset 5: Ionosphere Dataset**\n",
    "\n",
    "https://archive.ics.uci.edu/ml/datasets/ionosphere"
   ]
  },
  {
   "cell_type": "code",
   "execution_count": 27,
   "id": "3110efa9",
   "metadata": {},
   "outputs": [
    {
     "name": "stdout",
     "output_type": "stream",
     "text": [
      "Training with 10% of data\n"
     ]
    },
    {
     "data": {
      "application/vnd.jupyter.widget-view+json": {
       "model_id": "19d749d618424faea6f6a000b415fdda",
       "version_major": 2,
       "version_minor": 0
      },
      "text/plain": [
       "  0%|          | 0/500 [00:00<?, ?it/s]"
      ]
     },
     "metadata": {},
     "output_type": "display_data"
    },
    {
     "name": "stdout",
     "output_type": "stream",
     "text": [
      "Training with 20% of data\n"
     ]
    },
    {
     "data": {
      "application/vnd.jupyter.widget-view+json": {
       "model_id": "de8a4007ad9d4f9cb9c443a6092e3f3a",
       "version_major": 2,
       "version_minor": 0
      },
      "text/plain": [
       "  0%|          | 0/500 [00:00<?, ?it/s]"
      ]
     },
     "metadata": {},
     "output_type": "display_data"
    },
    {
     "name": "stdout",
     "output_type": "stream",
     "text": [
      "Training with 30% of data\n"
     ]
    },
    {
     "data": {
      "application/vnd.jupyter.widget-view+json": {
       "model_id": "113142a5712c464ba169fb5222f4b3a3",
       "version_major": 2,
       "version_minor": 0
      },
      "text/plain": [
       "  0%|          | 0/500 [00:00<?, ?it/s]"
      ]
     },
     "metadata": {},
     "output_type": "display_data"
    },
    {
     "name": "stdout",
     "output_type": "stream",
     "text": [
      "Training with 40% of data\n"
     ]
    },
    {
     "data": {
      "application/vnd.jupyter.widget-view+json": {
       "model_id": "2de6b5c508ca4ed9b2f94b01f39e51df",
       "version_major": 2,
       "version_minor": 0
      },
      "text/plain": [
       "  0%|          | 0/500 [00:00<?, ?it/s]"
      ]
     },
     "metadata": {},
     "output_type": "display_data"
    },
    {
     "name": "stdout",
     "output_type": "stream",
     "text": [
      "Training with 50% of data\n"
     ]
    },
    {
     "data": {
      "application/vnd.jupyter.widget-view+json": {
       "model_id": "7422d4df2850409cba91a8f038662da3",
       "version_major": 2,
       "version_minor": 0
      },
      "text/plain": [
       "  0%|          | 0/500 [00:00<?, ?it/s]"
      ]
     },
     "metadata": {},
     "output_type": "display_data"
    },
    {
     "name": "stdout",
     "output_type": "stream",
     "text": [
      "Training with 60% of data\n"
     ]
    },
    {
     "data": {
      "application/vnd.jupyter.widget-view+json": {
       "model_id": "c8c44ced6e2e4be0bc1c6ba183fa1730",
       "version_major": 2,
       "version_minor": 0
      },
      "text/plain": [
       "  0%|          | 0/500 [00:00<?, ?it/s]"
      ]
     },
     "metadata": {},
     "output_type": "display_data"
    },
    {
     "name": "stdout",
     "output_type": "stream",
     "text": [
      "Training with 70% of data\n"
     ]
    },
    {
     "data": {
      "application/vnd.jupyter.widget-view+json": {
       "model_id": "cbb492e12d364464afd670e24568db82",
       "version_major": 2,
       "version_minor": 0
      },
      "text/plain": [
       "  0%|          | 0/500 [00:00<?, ?it/s]"
      ]
     },
     "metadata": {},
     "output_type": "display_data"
    },
    {
     "name": "stdout",
     "output_type": "stream",
     "text": [
      "Training with 80% of data\n"
     ]
    },
    {
     "data": {
      "application/vnd.jupyter.widget-view+json": {
       "model_id": "df55c6106d994524879e8041f3eae829",
       "version_major": 2,
       "version_minor": 0
      },
      "text/plain": [
       "  0%|          | 0/500 [00:00<?, ?it/s]"
      ]
     },
     "metadata": {},
     "output_type": "display_data"
    },
    {
     "name": "stdout",
     "output_type": "stream",
     "text": [
      "Training with 90% of data\n"
     ]
    },
    {
     "data": {
      "application/vnd.jupyter.widget-view+json": {
       "model_id": "3193ce7309ef46f5af0c9dfd361b9927",
       "version_major": 2,
       "version_minor": 0
      },
      "text/plain": [
       "  0%|          | 0/500 [00:00<?, ?it/s]"
      ]
     },
     "metadata": {},
     "output_type": "display_data"
    },
    {
     "name": "stdout",
     "output_type": "stream",
     "text": [
      "Training with 100% of data\n"
     ]
    },
    {
     "data": {
      "application/vnd.jupyter.widget-view+json": {
       "model_id": "b093ee95fbc04c9688ec4c8ca5d36f6b",
       "version_major": 2,
       "version_minor": 0
      },
      "text/plain": [
       "  0%|          | 0/500 [00:00<?, ?it/s]"
      ]
     },
     "metadata": {},
     "output_type": "display_data"
    },
    {
     "data": {
      "image/png": "[encoded data removed]",
      "text/plain": [
       "<Figure size 720x720 with 1 Axes>"
      ]
     },
     "metadata": {
      "needs_background": "light"
     },
     "output_type": "display_data"
    }
   ],
   "source": [
    "url = 'https://archive.ics.uci.edu/ml/machine-learning-databases/ionosphere/ionosphere.data'\n",
    "df = read_df_by_url(url)\n",
    "X = df.drop(df.columns[-1], axis=1)\n",
    "y = df[df.columns[-1]]\n",
    "y = pd.Series(LabelEncoder().fit_transform(y))\n",
    "num_features = X.shape[1]\n",
    "num_classes = len(np.unique(y))\n",
    "\n",
    "nbc = NBC(feature_types=['r'] * num_features, num_classes=num_classes)\n",
    "lr = LogisticRegression(max_iter=LR_MAX_ITER)\n",
    "\n",
    "makePlot(*compareNBCvsLR(nbc, lr, X, y), title='Ionosphere Dataset')"
   ]
  },
  {
   "cell_type": "markdown",
   "id": "b4a8feca",
   "metadata": {},
   "source": [
    "**Dataset 6: Sonar Dataset**\n",
    "\n",
    "http://archive.ics.uci.edu/ml/datasets/connectionist+bench+%28sonar,+mines+vs.+rocks%29"
   ]
  },
  {
   "cell_type": "code",
   "execution_count": 28,
   "id": "5291d57c",
   "metadata": {},
   "outputs": [
    {
     "name": "stdout",
     "output_type": "stream",
     "text": [
      "Training with 10% of data\n"
     ]
    },
    {
     "data": {
      "application/vnd.jupyter.widget-view+json": {
       "model_id": "f6739c90f4f14e4389d126b16c1c0dbc",
       "version_major": 2,
       "version_minor": 0
      },
      "text/plain": [
       "  0%|          | 0/500 [00:00<?, ?it/s]"
      ]
     },
     "metadata": {},
     "output_type": "display_data"
    },
    {
     "name": "stdout",
     "output_type": "stream",
     "text": [
      "Training with 20% of data\n"
     ]
    },
    {
     "data": {
      "application/vnd.jupyter.widget-view+json": {
       "model_id": "fd1852fd7455448890257d3ba3401295",
       "version_major": 2,
       "version_minor": 0
      },
      "text/plain": [
       "  0%|          | 0/500 [00:00<?, ?it/s]"
      ]
     },
     "metadata": {},
     "output_type": "display_data"
    },
    {
     "name": "stdout",
     "output_type": "stream",
     "text": [
      "Training with 30% of data\n"
     ]
    },
    {
     "data": {
      "application/vnd.jupyter.widget-view+json": {
       "model_id": "df8450b7ce044f20bbab8deba68bc661",
       "version_major": 2,
       "version_minor": 0
      },
      "text/plain": [
       "  0%|          | 0/500 [00:00<?, ?it/s]"
      ]
     },
     "metadata": {},
     "output_type": "display_data"
    },
    {
     "name": "stdout",
     "output_type": "stream",
     "text": [
      "Training with 40% of data\n"
     ]
    },
    {
     "data": {
      "application/vnd.jupyter.widget-view+json": {
       "model_id": "ae5f2d382507434b8b7761479e5bb103",
       "version_major": 2,
       "version_minor": 0
      },
      "text/plain": [
       "  0%|          | 0/500 [00:00<?, ?it/s]"
      ]
     },
     "metadata": {},
     "output_type": "display_data"
    },
    {
     "name": "stdout",
     "output_type": "stream",
     "text": [
      "Training with 50% of data\n"
     ]
    },
    {
     "data": {
      "application/vnd.jupyter.widget-view+json": {
       "model_id": "0223f66d27474ee28719bb6f624e3708",
       "version_major": 2,
       "version_minor": 0
      },
      "text/plain": [
       "  0%|          | 0/500 [00:00<?, ?it/s]"
      ]
     },
     "metadata": {},
     "output_type": "display_data"
    },
    {
     "name": "stdout",
     "output_type": "stream",
     "text": [
      "Training with 60% of data\n"
     ]
    },
    {
     "data": {
      "application/vnd.jupyter.widget-view+json": {
       "model_id": "f9ea99aafff542c59f3d598ba1a11ffa",
       "version_major": 2,
       "version_minor": 0
      },
      "text/plain": [
       "  0%|          | 0/500 [00:00<?, ?it/s]"
      ]
     },
     "metadata": {},
     "output_type": "display_data"
    },
    {
     "name": "stdout",
     "output_type": "stream",
     "text": [
      "Training with 70% of data\n"
     ]
    },
    {
     "data": {
      "application/vnd.jupyter.widget-view+json": {
       "model_id": "cf64f170f6e84527b3f3e40059df5f4d",
       "version_major": 2,
       "version_minor": 0
      },
      "text/plain": [
       "  0%|          | 0/500 [00:00<?, ?it/s]"
      ]
     },
     "metadata": {},
     "output_type": "display_data"
    },
    {
     "name": "stdout",
     "output_type": "stream",
     "text": [
      "Training with 80% of data\n"
     ]
    },
    {
     "data": {
      "application/vnd.jupyter.widget-view+json": {
       "model_id": "90b1a48545a14eff88b42c04c6cb587b",
       "version_major": 2,
       "version_minor": 0
      },
      "text/plain": [
       "  0%|          | 0/500 [00:00<?, ?it/s]"
      ]
     },
     "metadata": {},
     "output_type": "display_data"
    },
    {
     "name": "stdout",
     "output_type": "stream",
     "text": [
      "Training with 90% of data\n"
     ]
    },
    {
     "data": {
      "application/vnd.jupyter.widget-view+json": {
       "model_id": "b8e24730421a40eda93c1d1cd15efe3b",
       "version_major": 2,
       "version_minor": 0
      },
      "text/plain": [
       "  0%|          | 0/500 [00:00<?, ?it/s]"
      ]
     },
     "metadata": {},
     "output_type": "display_data"
    },
    {
     "name": "stdout",
     "output_type": "stream",
     "text": [
      "Training with 100% of data\n"
     ]
    },
    {
     "data": {
      "application/vnd.jupyter.widget-view+json": {
       "model_id": "3ee15124af8a47a2a49fd1705cef70fe",
       "version_major": 2,
       "version_minor": 0
      },
      "text/plain": [
       "  0%|          | 0/500 [00:00<?, ?it/s]"
      ]
     },
     "metadata": {},
     "output_type": "display_data"
    },
    {
     "data": {
      "image/png": "[encoded data removed]",
      "text/plain": [
       "<Figure size 720x720 with 1 Axes>"
      ]
     },
     "metadata": {
      "needs_background": "light"
     },
     "output_type": "display_data"
    }
   ],
   "source": [
    "url = 'http://archive.ics.uci.edu/ml/machine-learning-databases/undocumented/connectionist-bench/sonar/sonar.all-data'\n",
    "df = read_df_by_url(url)\n",
    "X = df.drop(df.columns[-1], axis=1)\n",
    "y = df[df.columns[-1]]\n",
    "y = pd.Series(LabelEncoder().fit_transform(y))\n",
    "num_features = X.shape[1]\n",
    "num_classes = len(np.unique(y))\n",
    "\n",
    "nbc = NBC(feature_types=['r'] * num_features, num_classes=num_classes)\n",
    "lr = LogisticRegression(max_iter=LR_MAX_ITER)\n",
    "\n",
    "makePlot(*compareNBCvsLR(nbc, lr, X, y), title='Sonar Dataset')"
   ]
  },
  {
   "cell_type": "code",
   "execution_count": null,
   "id": "81b56e7e",
   "metadata": {},
   "outputs": [],
   "source": []
  }
 ],
 "metadata": {
  "kernelspec": {
   "display_name": "Python 3 (ipykernel)",
   "language": "python",
   "name": "python3"
  },
  "language_info": {
   "codemirror_mode": {
    "name": "ipython",
    "version": 3
   },
   "file_extension": ".py",
   "mimetype": "text/x-python",
   "name": "python",
   "nbconvert_exporter": "python",
   "pygments_lexer": "ipython3",
   "version": "3.9.7"
  }
 },
 "nbformat": 4,
 "nbformat_minor": 5
}
