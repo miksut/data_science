{
 "cells": [
  {
   "cell_type": "markdown",
   "id": "920a569f",
   "metadata": {},
   "source": [
    "# Regression (Ridge, Lasso)\n",
    "\n",
    "\n",
    "## Dataset Preparation\n",
    "The data basis comes in form of a preprocessed version of the [wine quality dataset](https://archive.ics.uci.edu/ml/datasets/Wine+Quality)."
   ]
  },
  {
   "cell_type": "code",
   "execution_count": 1,
   "id": "90668434",
   "metadata": {},
   "outputs": [],
   "source": [
    "import os\n",
    "import numpy as np\n",
    "import matplotlib.pyplot as plt\n",
    "import _pickle as cp\n",
    "import pandas as pd\n",
    "import io\n",
    "import requests"
   ]
  },
  {
   "cell_type": "code",
   "execution_count": 3,
   "id": "8921f2bd",
   "metadata": {},
   "outputs": [
    {
     "name": "stdout",
     "output_type": "stream",
     "text": [
      "Data Shape (records/attributes): (4898, 11)\n",
      "No. Labels: 4898\n"
     ]
    }
   ],
   "source": [
    "X, y = cp.load(open('../data/winequality-white.pickle', 'rb'))\n",
    "\n",
    "print(f'Data Shape (records/attributes): {X.shape}')\n",
    "print(f'No. Labels: {y.shape[0]}')"
   ]
  },
  {
   "cell_type": "code",
   "execution_count": 4,
   "id": "5ad00d4c",
   "metadata": {},
   "outputs": [
    {
     "name": "stdout",
     "output_type": "stream",
     "text": [
      "Shape of X_train: (3918, 11)\n",
      "Shape of y_train: (3918,)\n",
      "Shape of X_test: (980, 11)\n",
      "Shape of y_test: (980,)\n"
     ]
    }
   ],
   "source": [
    "# create training and test dataset using a 80/20 split\n",
    "\n",
    "def split_data(X, y, split_coeff):\n",
    "    N, _ = X.shape\n",
    "    train_size = int(split_coeff * N) \n",
    "    X_train = X[:train_size]\n",
    "    y_train = y[:train_size]\n",
    "    X_test = X[train_size:]\n",
    "    y_test = y[train_size:]\n",
    "    return X_train, y_train, X_test, y_test\n",
    "\n",
    "X_train, y_train, X_test, y_test = split_data(X, y, 0.8)\n",
    "\n",
    "print(\"Shape of X_train:\", X_train.shape)\n",
    "print(\"Shape of y_train:\", y_train.shape)\n",
    "print(\"Shape of X_test:\", X_test.shape)\n",
    "print(\"Shape of y_test:\", y_test.shape)"
   ]
  },
  {
   "cell_type": "code",
   "execution_count": 7,
   "id": "2896e15c",
   "metadata": {},
   "outputs": [
    {
     "data": {
      "image/png": "[encoded data removed]",
      "text/plain": [
       "<Figure size 432x288 with 1 Axes>"
      ]
     },
     "metadata": {
      "needs_background": "light"
     },
     "output_type": "display_data"
    }
   ],
   "source": [
    "# inspect distribution of wine scores\n",
    "def plot_bar_chart_score(X_train, y_train):\n",
    "    bins = np.arange(min(y_train), max(y_train)+2)\n",
    "    plt.hist(y_train, bins=bins, align='left', rwidth=.8)\n",
    "    plt.gca().set(title='Wine score distribution', xlabel='Score', ylabel='Number of wines');\n",
    "\n",
    "plot_bar_chart_score(X_train, y_train)"
   ]
  },
  {
   "cell_type": "markdown",
   "id": "c469cf79",
   "metadata": {},
   "source": [
    "## Implementation of Trivial Predictor (Baseline)"
   ]
  },
  {
   "cell_type": "code",
   "execution_count": 8,
   "id": "260ab27d",
   "metadata": {},
   "outputs": [
    {
     "name": "stdout",
     "output_type": "stream",
     "text": [
      "Average of y on the training label values is 5.878764675855028\n"
     ]
    }
   ],
   "source": [
    "# trivial predictor: average value of y on training dataset as prediction for a datapoint\n",
    "y_train_avg = np.mean(y_train)\n",
    "print(\"Average of y on the training label values is {}\".format(y_train_avg))\n",
    "\n",
    "def simplest_predictor(X_test, y_train_avg):\n",
    "    return y_train_avg"
   ]
  },
  {
   "cell_type": "code",
   "execution_count": 11,
   "id": "a11f3f86",
   "metadata": {},
   "outputs": [
    {
     "name": "stdout",
     "output_type": "stream",
     "text": [
      "Simplest Predictor\n",
      "--------------------------------------------------------------------------------\n",
      "\n",
      "MSE (Training) = 0.7768\n",
      "MSE (Testing)  = 0.8139\n"
     ]
    }
   ],
   "source": [
    "from sklearn.metrics import mean_squared_error\n",
    "\n",
    "# compute mean squared error (i.e., average of squared residuals) on training and test data using trivial (=simplest) predictor\n",
    "def test_data(X_test, y_test, predictor: callable=None):\n",
    "    # Applies the predictor to each row to compute the predicted values\n",
    "    y_predicted = np.apply_along_axis(predictor, 1, X_test)\n",
    "    mse = np.square(np.subtract(y_test, y_predicted)).mean()\n",
    "    return mse\n",
    "\n",
    "mse_simplest_predictor_train = test_data(X_train, y_train, lambda x: simplest_predictor(x, y_train_avg))\n",
    "mse_simplest_predictor_test = test_data(X_test, y_test, lambda x: simplest_predictor(x, y_train_avg))\n",
    "\n",
    "print('Simplest Predictor')\n",
    "print('--------------------------------------------------------------------------------\\n')\n",
    "print('MSE (Training) = %.4f' % mse_simplest_predictor_train)\n",
    "print('MSE (Testing)  = %.4f' % mse_simplest_predictor_test)"
   ]
  },
  {
   "cell_type": "markdown",
   "id": "c9cc00e6",
   "metadata": {},
   "source": [
    "## Implementation of Linear Least Squares Model\n",
    "\n",
    "**Data Standardization:** Standardization is effective if the data has varying scales (this could lead to uneven contributions of different features to the analysis). Furthermore standardization is useful if the model we use assumes the data to be Gaussian distributed, which is true in the case of the least squares linear regression model (i.e. linear regression from the viewpoint of Maximum Likelihood Estimation)."
   ]
  },
  {
   "cell_type": "code",
   "execution_count": 25,
   "id": "6d051e68",
   "metadata": {},
   "outputs": [
    {
     "name": "stdout",
     "output_type": "stream",
     "text": [
      "X_train_standardized: (3918, 11)\n",
      "Mean of standardized training data: [0, 0, 0, 0, 0, 0, 0, 0, 0, 0, 0]\n",
      "Standard Deviation of standardized training data: [1. 1. 1. 1. 1. 1. 1. 1. 1. 1. 1.]\n",
      "\n",
      "X_test_standardized: (980, 11)\n",
      "Mean of standardized test data: [0, 0, 0, 0, 0, 0, 0, 0, 0, 0, 0]\n",
      "Standard Deviation of standardized training data: [1.02757644 1.05986644 0.86133957 1.00717143 1.04074644 0.97188551\n",
      " 1.01138494 1.01791956 1.03268047 1.04822853 1.02070335]\n"
     ]
    }
   ],
   "source": [
    "from sklearn.preprocessing import StandardScaler\n",
    "\n",
    "def standardize_data(X):\n",
    "    # standardized datapoint: z = (x - mean)/std\n",
    "    scaler = StandardScaler()\n",
    "    X_standardized = scaler.fit_transform(X)\n",
    "    \n",
    "    return X_standardized, scaler\n",
    "\n",
    "X_train_standardized, scaler_train = standardize_data(X_train)\n",
    "print(f'X_train_standardized: {X_train_standardized.shape}')\n",
    "print(f'Mean of standardized training data: {[int(x) for x in X_train_standardized.mean(axis=0)]}')\n",
    "print(f'Standard Deviation of standardized training data: {X_train_standardized.std(axis=0)}\\n')\n",
    "\n",
    "# standardize test data using mean and std from training data\n",
    "X_test_standardized = scaler_train.transform(X_test)\n",
    "print(f'X_test_standardized: {X_test_standardized.shape}')\n",
    "print(f'Mean of standardized test data: {[int(x) for x in X_test_standardized.mean(axis=0)]}')\n",
    "print(f'Standard Deviation of standardized training data: {X_test_standardized.std(axis=0)}')"
   ]
  },
  {
   "cell_type": "code",
   "execution_count": 28,
   "id": "d20d8ee9",
   "metadata": {},
   "outputs": [
    {
     "name": "stdout",
     "output_type": "stream",
     "text": [
      "[ 5.87876468e+00  5.70365710e-02 -1.83384219e-01 -4.04067444e-03\n",
      "  4.09097280e-01 -8.17517111e-03  5.92929519e-02 -3.56633675e-03\n",
      " -4.36936781e-01  9.87381161e-02  6.53325059e-02  2.42495455e-01]\n",
      "w: (12,)\n"
     ]
    }
   ],
   "source": [
    "from sklearn.linear_model import LinearRegression\n",
    "\n",
    "# add a column of ones (=bias column) to the front of the input matrix\n",
    "def expand_with_ones(X):\n",
    "    axis = 1 if X.ndim > 1 else 0\n",
    "    X_out = np.insert(X, 0, values=[[1]], axis=axis)\n",
    "    \n",
    "    return X_out\n",
    "\n",
    "def least_squares_compute_parameters(X_input, y):\n",
    "    # add the bias column to the dataset\n",
    "    X = expand_with_ones(X_input)\n",
    "    coef = (np.linalg.inv(X.T @ X)) @ X.T @ y\n",
    "    \n",
    "    return coef\n",
    "\n",
    "# train the linear model parameters\n",
    "w = least_squares_compute_parameters(X_train_standardized, y_train) \n",
    "print(w)\n",
    "print(\"w:\", w.shape)"
   ]
  },
  {
   "cell_type": "code",
   "execution_count": 29,
   "id": "91d2fde2",
   "metadata": {},
   "outputs": [],
   "source": [
    "# Implement the linear model predictor\n",
    "def linear_model_predictor(X, w):\n",
    "    return np.dot(X,w)"
   ]
  },
  {
   "cell_type": "code",
   "execution_count": 46,
   "id": "85c4a6d5",
   "metadata": {},
   "outputs": [
    {
     "name": "stdout",
     "output_type": "stream",
     "text": [
      "Mean squared error is 0.5607292042283475\n"
     ]
    }
   ],
   "source": [
    "# evaluate the linear model predictor\n",
    "mse_linear_model_predictor = test_data(expand_with_ones(X_test_standardized), y_test, lambda x: linear_model_predictor(x, w))\n",
    "print(\"Mean squared error is {}\".format(mse_linear_model_predictor))"
   ]
  },
  {
   "cell_type": "markdown",
   "id": "e20d3cd3",
   "metadata": {},
   "source": [
    "## Learning Curves\n",
    "\n",
    "Inspect if linear model is overfitting or underfitting. General idea: start with 20 datapoints from the training dataset and increase its size in increments of 20 up to 600 datapoints. For each case, train the linear model on the current dataset. Calculate training error on this dataset and the test error on the full test set. Plot training and test error as a function of the size of the training dataset."
   ]
  },
  {
   "cell_type": "code",
   "execution_count": 47,
   "id": "9b2e7c0e",
   "metadata": {},
   "outputs": [],
   "source": [
    "from sklearn.model_selection import train_test_split \n",
    "\n",
    "def train_and_test(X, y, split_coeff):\n",
    "    # split input in training and test set. Assume an initial train-test-split of 80/20\n",
    "    X_train_full, X_test, y_train_full, y_test = train_test_split(X, y, train_size=0.8)\n",
    "    X_train, _, y_train, _ = train_test_split(X_train_full, y_train_full, train_size=split_coeff)\n",
    "    print(f'Size of training data: {X_train.shape}')\n",
    "    \n",
    "    # standardize input\n",
    "    X_train_standardized, scaler_train = standardize_data(X_train)\n",
    "    X_test_standardized = scaler_train.transform(X_test)\n",
    "    \n",
    "    # Train the linear model by computing the coefficients\n",
    "    coefs = least_squares_compute_parameters(X_train_standardized, y_train)\n",
    "    \n",
    "    # Calculate MSE for training and test data sets.\n",
    "    mse_train = test_data(expand_with_ones(X_train_standardized), y_train, lambda x: linear_model_predictor(x, coefs))\n",
    "    mse_test = test_data(expand_with_ones(X_test_standardized), y_test, lambda x: linear_model_predictor(x, coefs))\n",
    "\n",
    "    return mse_train, mse_test"
   ]
  },
  {
   "cell_type": "code",
   "execution_count": 49,
   "id": "97677b49",
   "metadata": {},
   "outputs": [
    {
     "name": "stdout",
     "output_type": "stream",
     "text": [
      "Size of training data: (19, 11)\n",
      "Size of training data: (39, 11)\n",
      "Size of training data: (59, 11)\n",
      "Size of training data: (79, 11)\n",
      "Size of training data: (99, 11)\n",
      "Size of training data: (119, 11)\n",
      "Size of training data: (139, 11)\n",
      "Size of training data: (159, 11)\n",
      "Size of training data: (179, 11)\n",
      "Size of training data: (199, 11)\n",
      "Size of training data: (219, 11)\n",
      "Size of training data: (239, 11)\n",
      "Size of training data: (259, 11)\n",
      "Size of training data: (279, 11)\n",
      "Size of training data: (299, 11)\n",
      "Size of training data: (319, 11)\n",
      "Size of training data: (339, 11)\n",
      "Size of training data: (359, 11)\n",
      "Size of training data: (379, 11)\n",
      "Size of training data: (399, 11)\n",
      "Size of training data: (419, 11)\n",
      "Size of training data: (439, 11)\n",
      "Size of training data: (459, 11)\n",
      "Size of training data: (479, 11)\n",
      "Size of training data: (499, 11)\n",
      "Size of training data: (519, 11)\n",
      "Size of training data: (539, 11)\n",
      "Size of training data: (559, 11)\n",
      "Size of training data: (579, 11)\n",
      "Size of training data: (599, 11)\n"
     ]
    },
    {
     "data": {
      "image/png": "[encoded data removed]",
      "text/plain": [
       "<Figure size 432x288 with 1 Axes>"
      ]
     },
     "metadata": {
      "needs_background": "light"
     },
     "output_type": "display_data"
    }
   ],
   "source": [
    "mse_train_vec = []\n",
    "mse_test_vec = []\n",
    "\n",
    "TRAINING_SIZE_MAX = 601\n",
    "TRAINING_SIZE_MIN = 20\n",
    "\n",
    "# compute the errors over datasets with different sizes\n",
    "for train_size in range(TRAINING_SIZE_MIN, TRAINING_SIZE_MAX, 20): \n",
    "    mse_train, mse_test = train_and_test(X, y, train_size/(len(X)*0.8))\n",
    "    \n",
    "    mse_train_vec.append(mse_train)\n",
    "    mse_test_vec.append(mse_test)\n",
    "\n",
    "# plotting\n",
    "plt.figure(2)\n",
    "plt.plot(np.arange(TRAINING_SIZE_MIN, TRAINING_SIZE_MAX, 20), mse_train_vec, 'r--', label=\"Training Error\")\n",
    "plt.plot(np.arange(TRAINING_SIZE_MIN, TRAINING_SIZE_MAX, 20), mse_test_vec, 'b-', label=\"Test Error\")\n",
    "plt.xlabel('Dataset Size')\n",
    "plt.ylabel('Mean Squared Error')\n",
    "plt.legend()\n",
    "plt.show()"
   ]
  },
  {
   "cell_type": "markdown",
   "id": "442f229e",
   "metadata": {},
   "source": [
    "## Polynomial Basis Expansion \n",
    "\n",
    "Procedure: try 5 powers of 10 for lambda from 10^-2 to 10^2 and use degree 2 basis expansion. Fit ridge and lasso using degree 2 polynomial expansion with these values of lambda. Pick the optimal values for lambda using a validation set. Set the last 20% of the training set for the purpose of validation."
   ]
  },
  {
   "cell_type": "code",
   "execution_count": 50,
   "id": "eb8c3bad",
   "metadata": {},
   "outputs": [],
   "source": [
    "from sklearn.preprocessing import StandardScaler, PolynomialFeatures \n",
    "from sklearn.linear_model import Ridge, Lasso "
   ]
  },
  {
   "cell_type": "code",
   "execution_count": 68,
   "id": "fabf6768",
   "metadata": {},
   "outputs": [],
   "source": [
    "def expand_basis(X, degree):\n",
    "    poly = PolynomialFeatures(degree)\n",
    "    X_poly = poly.fit_transform(X)\n",
    "    \n",
    "    print('\\nDegree: {}'.format(degree))\n",
    "    print('Number of input features: {}'.format(X.shape[1]))\n",
    "    print('Number of features after transform: {}'.format(X_poly.shape[1]))\n",
    "    return X_poly"
   ]
  },
  {
   "cell_type": "code",
   "execution_count": 57,
   "id": "d892ae97",
   "metadata": {},
   "outputs": [
    {
     "name": "stdout",
     "output_type": "stream",
     "text": [
      "Degree: 2\n",
      "Number of input features: 11\n",
      "Number of features after transform: 78\n"
     ]
    }
   ],
   "source": [
    "def prepare_data(X, y, degree):\n",
    "    # dataset preparation:\n",
    "    # 1. training data -- X_train, y_train\n",
    "    # 2. test data -- X_test, y_test\n",
    "    # 3. validation data -- X_train_v, y_train_v\n",
    "    # 4. training data (cross validation) -- X_train_n, y_train_n\n",
    "    \n",
    "    # standardize data before basis expansion\n",
    "    scaler = StandardScaler()\n",
    "    X = scaler.fit_transform(X)\n",
    "    \n",
    "    # basis expansion\n",
    "    X_poly = expand_basis(X, degree)\n",
    "       \n",
    "    # training data and test data\n",
    "    X_train, y_train, X_test, y_test = split_data(X_poly, y, 0.8)\n",
    "    \n",
    "    # standardize training and test data\n",
    "    X_train_standardized = scaler.fit_transform(X_train)\n",
    "    X_test_standardized = scaler.transform(X_test)\n",
    "    \n",
    "    # split the training data to training and validation data and standardize\n",
    "    X_train_n, y_train_n, X_train_v, y_train_v = split_data(X_train, y_train, 0.8)\n",
    "    X_train_n_standardized = scaler.fit_transform(X_train_n)\n",
    "    X_train_v_standardized = scaler.transform(X_train_v)\n",
    "    \n",
    "    return X_train_standardized, y_train, X_train_n_standardized, y_train_n, X_train_v_standardized, y_train_v, X_test_standardized, y_test\n",
    "\n",
    "\n",
    "X_train, y_train, X_train_n, y_train_n, X_train_v, y_train_v, X_test, y_test = prepare_data(X, y, 2) # here we expand the dataset with degree 2"
   ]
  },
  {
   "cell_type": "code",
   "execution_count": 59,
   "id": "9d1a3923",
   "metadata": {},
   "outputs": [
    {
     "data": {
      "image/png": "[encoded data removed]",
      "text/plain": [
       "<Figure size 432x288 with 1 Axes>"
      ]
     },
     "metadata": {
      "needs_background": "light"
     },
     "output_type": "display_data"
    },
    {
     "data": {
      "image/png": "[encoded data removed]",
      "text/plain": [
       "<Figure size 432x288 with 1 Axes>"
      ]
     },
     "metadata": {
      "needs_background": "light"
     },
     "output_type": "display_data"
    },
    {
     "name": "stdout",
     "output_type": "stream",
     "text": [
      "Ridge lambda: 1\n",
      "Lasso lambda: 0.01\n"
     ]
    }
   ],
   "source": [
    "# find optimal hyperparameter 'lambda' for Ridge and Lasso using training and validation datasets\n",
    "\n",
    "def choose_hyper_param(X_train_n, y_train_n, X_train_v, y_train_v, is_ridge: bool, show_plots: bool):\n",
    "    mse_arr = []\n",
    "    lam_arr = []\n",
    "\n",
    "    # Try lambda values from 10^-2 to 10^2. \n",
    "    # Record the mse and the lambda values in mse_arr and lam_arr\n",
    "    for pow_lam in range(-2, 3):\n",
    "        # compute lambda and save it\n",
    "        lam = 10 ** pow_lam\n",
    "        lam_arr.append(lam)\n",
    "        # define model based on input parameter 'is_ridge'\n",
    "        model = Ridge(lam) if is_ridge else Lasso(lam)\n",
    "        # fit model on train split\n",
    "        model.fit(X_train_n, y_train_n)\n",
    "        # evaluate on validation split\n",
    "        y_pred = model.predict(X_train_v)\n",
    "        # compute MSE and save it\n",
    "        mse_arr.append(mean_squared_error(y_train_v, y_pred))\n",
    "\n",
    "    # get the index of the lambda value that has the minimal use\n",
    "    lambda_idx_min = np.argmin(np.array(mse_arr))\n",
    "    # print(lam_arr[lambda_idx_min])\n",
    "    \n",
    "    if (show_plots):\n",
    "        # plot of the lambda values and their mse\n",
    "        plt.figure()\n",
    "        plt.xlabel(\"lambda\")\n",
    "        plt.ylabel(\"MSE\")\n",
    "        plt.title(\"{} Hyperparameter estimation\".format(\"Ridge\" if is_ridge else \"Lasso\"))\n",
    "        plt.semilogx(lam_arr, mse_arr)\n",
    "        plt.show()\n",
    "\n",
    "    # return the best lambda value\n",
    "    return lam_arr[lambda_idx_min]\n",
    "\n",
    "# call the function to choose the lambda for Ridge and Lasso\n",
    "lam_ridge = choose_hyper_param(X_train_n, y_train_n, X_train_v, y_train_v, True, True)\n",
    "lam_lasso = choose_hyper_param(X_train_n, y_train_n, X_train_v, y_train_v, False, True)\n",
    "\n",
    "print(\"Ridge lambda:\", lam_ridge)\n",
    "print(\"Lasso lambda:\", lam_lasso)"
   ]
  },
  {
   "cell_type": "code",
   "execution_count": 60,
   "id": "2ed7970e",
   "metadata": {},
   "outputs": [
    {
     "name": "stdout",
     "output_type": "stream",
     "text": [
      "For Ridge Regression using degree 2 polynomial expansion and lambda = 1.0000\n",
      "--------------------------------------------------------------------------------\n",
      "\n",
      "MSE (Training) = 0.4952\n",
      "MSE (Testing)  = 0.5126\n",
      "\n",
      "\n",
      "For Lasso Regression using degree 2 polynomial expansion and lambda = 0.0100\n",
      "---------------------------------------------------------------------\n",
      "\n",
      "MSE (Training) = 0.5180\n",
      "MSE (Testing)  = 0.5268\n"
     ]
    }
   ],
   "source": [
    "# based on optimal hyperparameters from validation step, train models on entire training dataset. Report training and test MSE\n",
    "\n",
    "# given polynomial degree\n",
    "degree = 2\n",
    "\n",
    "#######################\n",
    "# Ridge               #\n",
    "#######################\n",
    "# define model\n",
    "ridge = Ridge(alpha=lam_ridge)\n",
    "# train on train set\n",
    "ridge.fit(X_train, y_train)\n",
    "# evaluate on train set \n",
    "y_pred_train = ridge.predict(X_train)\n",
    "# compute train MSE\n",
    "mse_ridge_train = mean_squared_error(y_train, y_pred_train)\n",
    "# evaluate models on test set\n",
    "y_pred_test = ridge.predict(X_test)\n",
    "# compute test MSE\n",
    "mse_ridge_test = mean_squared_error(y_test, y_pred_test)\n",
    "\n",
    "#######################\n",
    "# LASSO               #\n",
    "#######################\n",
    "# define model\n",
    "lasso = Lasso(alpha=lam_lasso, max_iter=10000)  # add max_iter for convergence (values do not change)\n",
    "# train on train set\n",
    "lasso.fit(X_train, y_train)\n",
    "# evaluate on train set \n",
    "y_pred_train = lasso.predict(X_train)\n",
    "# compute train MSE\n",
    "mse_lasso_train = mean_squared_error(y_train, y_pred_train)\n",
    "# evaluate models on test set\n",
    "y_pred_test = lasso.predict(X_test)\n",
    "# compute test MSE\n",
    "mse_lasso_test = mean_squared_error(y_test, y_pred_test)\n",
    "\n",
    "# Report the result\n",
    "print('For Ridge Regression using degree %d polynomial expansion and lambda = %.4f' % (degree, lam_ridge))\n",
    "print('--------------------------------------------------------------------------------\\n')\n",
    "print('MSE (Training) = %.4f' % mse_ridge_train)\n",
    "print('MSE (Testing)  = %.4f' % mse_ridge_test)\n",
    "\n",
    "print('\\n\\nFor Lasso Regression using degree %d polynomial expansion and lambda = %.4f' % (degree, lam_lasso))\n",
    "print('---------------------------------------------------------------------\\n')\n",
    "print('MSE (Training) = %.4f' % mse_lasso_train)\n",
    "print('MSE (Testing)  = %.4f' % mse_lasso_test)"
   ]
  },
  {
   "cell_type": "markdown",
   "id": "e8273ccf",
   "metadata": {},
   "source": [
    "Alternatively, higher degree basis expansion is tested. However, instead of using a separate validation set, k-fold cross validation is applied."
   ]
  },
  {
   "cell_type": "code",
   "execution_count": 65,
   "id": "7dd6b46f",
   "metadata": {},
   "outputs": [],
   "source": [
    "from sklearn.model_selection import KFold\n",
    "from statistics import mode\n",
    "from collections import Counter"
   ]
  },
  {
   "cell_type": "code",
   "execution_count": 69,
   "id": "09009d94",
   "metadata": {},
   "outputs": [
    {
     "name": "stdout",
     "output_type": "stream",
     "text": [
      "Number of splits: 10\n",
      "\n",
      "Degree: 3\n",
      "Number of input features: 11\n",
      "Number of features after transform: 364\n",
      "\n",
      "For Ridge Regression using degree 3 polynomial expansion and lambda = 100.0000\n",
      "--------------------------------------------------------------------------------\n",
      "\n",
      "MSE (Training) = 0.4301\n",
      "MSE (Testing)  = 0.6034\n",
      "\n",
      "\n",
      "For Lasso using degree 3 polynomial expansion and lambda = 0.0100\n",
      "---------------------------------------------------------------------\n",
      "\n",
      "MSE (Training) = 0.4889\n",
      "MSE (Testing)  = 0.5126\n",
      "\n",
      "Degree: 4\n",
      "Number of input features: 11\n",
      "Number of features after transform: 1365\n",
      "\n",
      "For Ridge Regression using degree 4 polynomial expansion and lambda = 100.0000\n",
      "--------------------------------------------------------------------------------\n",
      "\n",
      "MSE (Training) = 0.3511\n",
      "MSE (Testing)  = 1.1321\n",
      "\n",
      "\n",
      "For Lasso using degree 4 polynomial expansion and lambda = 0.0100\n",
      "---------------------------------------------------------------------\n",
      "\n",
      "MSE (Training) = 0.4699\n",
      "MSE (Testing)  = 0.5226\n",
      "\n",
      "Degree: 5\n",
      "Number of input features: 11\n",
      "Number of features after transform: 4368\n",
      "\n",
      "For Ridge Regression using degree 5 polynomial expansion and lambda = 100.0000\n",
      "--------------------------------------------------------------------------------\n",
      "\n",
      "MSE (Training) = 0.2785\n",
      "MSE (Testing)  = 1.7418\n",
      "\n",
      "\n",
      "For Lasso using degree 5 polynomial expansion and lambda = 0.0100\n",
      "---------------------------------------------------------------------\n",
      "\n",
      "MSE (Training) = 0.4583\n",
      "MSE (Testing)  = 0.5081\n"
     ]
    }
   ],
   "source": [
    "def init_models(lam_ridge, lam_lasso):\n",
    "    return Ridge(alpha=lam_ridge), Lasso(alpha=lam_lasso, max_iter=100000)\n",
    "\n",
    "def get_best_lambda(lam_arr):\n",
    "    counter = Counter(lam_arr)\n",
    "    return counter.most_common(1)[0][0]\n",
    "\n",
    "kfold_splits=10\n",
    "degree_list = [3, 4, 5]\n",
    "\n",
    "kf = KFold(n_splits=kfold_splits)\n",
    "print(f'Number of splits: {kf.get_n_splits(X_train, y_train)}')\n",
    "\n",
    "for degree in degree_list:\n",
    "\n",
    "    lam_ridge_cv = []\n",
    "    lam_lasso_cv = []\n",
    "    \n",
    "    # expand dataset for given degree\n",
    "    X_train_deg, y_train_deg, _, _, _, _, X_test_deg, y_test_deg = prepare_data(X, y, degree)\n",
    "\n",
    "    # use cross validation to determine hyperparameters\n",
    "    for train_idx, val_idx in kf.split(X_train_deg, y_train_deg):\n",
    "        # set the splits\n",
    "        X_train_t, X_train_v, y_train_t, y_train_v = X_train_deg[train_idx], X_train_deg[val_idx], y_train_deg[train_idx], y_train_deg[val_idx]\n",
    "        # compute lambdas\n",
    "        lam_ridge_cv.append(choose_hyper_param(X_train_t, y_train_t, X_train_v, y_train_v, True, False))\n",
    "        lam_lasso_cv.append(choose_hyper_param(X_train_t, y_train_t, X_train_v, y_train_v, False, False))\n",
    "\n",
    "    # get best lambdas according to cross validation step\n",
    "    lam_ridge = get_best_lambda(lam_ridge_cv)\n",
    "    lam_lasso = get_best_lambda(lam_lasso_cv)\n",
    "    # init models\n",
    "    ridge, lasso = init_models(lam_ridge, lam_lasso)\n",
    "    # fit on train set\n",
    "    ridge.fit(X_train_deg, y_train_deg)\n",
    "    lasso.fit(X_train_deg, y_train_deg)\n",
    "    # predict on train set\n",
    "    y_pred_ridge = ridge.predict(X_train_deg)\n",
    "    y_pred_lasso = lasso.predict(X_train_deg)\n",
    "    # compute train MSE\n",
    "    mse_ridge_train = mean_squared_error(y_train_deg, y_pred_ridge)\n",
    "    mse_lasso_train = mean_squared_error(y_train_deg, y_pred_lasso)\n",
    "    # predict on test split\n",
    "    y_pred_ridge = ridge.predict(X_test_deg)\n",
    "    y_pred_lasso = lasso.predict(X_test_deg)\n",
    "    # compute test MSE\n",
    "    mse_ridge_test = mean_squared_error(y_test_deg, y_pred_ridge)\n",
    "    mse_lasso_test = mean_squared_error(y_test_deg, y_pred_lasso)\n",
    "    \n",
    "    # Report the result\n",
    "    print('\\nFor Ridge Regression using degree %d polynomial expansion and lambda = %.4f' % (degree, lam_ridge))\n",
    "    print('--------------------------------------------------------------------------------\\n')\n",
    "    print('MSE (Training) = %.4f' % mse_ridge_train)\n",
    "    print('MSE (Testing)  = %.4f' % mse_ridge_test)\n",
    "\n",
    "    print('\\n\\nFor Lasso using degree %d polynomial expansion and lambda = %.4f' % (degree, lam_lasso))\n",
    "    print('---------------------------------------------------------------------\\n')\n",
    "    print('MSE (Training) = %.4f' % mse_lasso_train)\n",
    "    print('MSE (Testing)  = %.4f' % mse_lasso_test)\n",
    "    \n"
   ]
  },
  {
   "cell_type": "code",
   "execution_count": null,
   "id": "c465e941",
   "metadata": {},
   "outputs": [],
   "source": []
  }
 ],
 "metadata": {
  "kernelspec": {
   "display_name": "Python 3 (ipykernel)",
   "language": "python",
   "name": "python3"
  },
  "language_info": {
   "codemirror_mode": {
    "name": "ipython",
    "version": 3
   },
   "file_extension": ".py",
   "mimetype": "text/x-python",
   "name": "python",
   "nbconvert_exporter": "python",
   "pygments_lexer": "ipython3",
   "version": "3.9.7"
  }
 },
 "nbformat": 4,
 "nbformat_minor": 5
}
